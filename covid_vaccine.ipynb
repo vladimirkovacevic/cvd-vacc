{
 "cells": [
  {
   "cell_type": "code",
   "execution_count": 69,
   "id": "forced-cylinder",
   "metadata": {},
   "outputs": [],
   "source": [
    "import pysam\n",
    "import os\n",
    "import textwrap\n",
    "import pandas as pd\n",
    "import seaborn as sns\n",
    "import matplotlib.pyplot as plt\n",
    "import json\n",
    "# Excelent explanation of the vaccine application flow\n",
    "# https://www.protocols.io/view/understanding-the-purpose-of-every-nucleotide-in-t-br3am8ie?step=5"
   ]
  },
  {
   "cell_type": "code",
   "execution_count": 8,
   "id": "conceptual-peeing",
   "metadata": {},
   "outputs": [],
   "source": [
    "pfizer_fname = 'data/pfizer.fa'\n",
    "covid_sequences = 'data/cov_after_jan_1st_2022/genomic.fna'\n",
    "if not os.path.exists(pfizer_fname + '.fai'):\n",
    "    pysam.faidx(pfizer_fname)\n",
    "pfizer = pysam.FastaFile(pfizer_fname)\n",
    "#! makeblastdb -in corona_genome.faa -dbtype prot -parse_seqids -input_type fasta\n",
    "# sed 1d pfizer_s_protein.faa | wc -c\n",
    "# tr -cd '[:space:]' < pfizer_s_protein.faa | wc -m      Calculate spaces\n",
    "# https://web.expasy.org/translate/\n",
    "# blastp -db ALL_S/999.faa -query pfizer_s_protein.faa -out results_999.csv -outfmt 7 -max_target_seqs 99999999# AZ https://www.ncbi.nlm.nih.gov/protein/YP_009724390.1"
   ]
  },
  {
   "cell_type": "code",
   "execution_count": 51,
   "id": "english-tours",
   "metadata": {},
   "outputs": [],
   "source": [
    "def write_fasta(dictionary, filename):\n",
    "    \"\"\"\n",
    "    Takes a dictionary and writes it to a fasta file\n",
    "    Must specify the filename when caling the function\n",
    "    \"\"\"\n",
    "    with open(filename, \"w\") as outfile:\n",
    "        for key, value in dictionary.items():\n",
    "            outfile.write(key + \"\\n\")\n",
    "            outfile.write(\"\\n\".join(textwrap.wrap(value, 60)))\n",
    "            outfile.write(\"\\n\")\n",
    "            \n",
    "s_pfizer = pfizer.fetch(pfizer.references[0], 103-1, 3879-1)  # From 11889.doc\n",
    "write_fasta({'Pfizer s protein': s_pfizer}, 'data/pfizer_s_protein.fa')"
   ]
  },
  {
   "cell_type": "code",
   "execution_count": 82,
   "id": "controlled-dressing",
   "metadata": {},
   "outputs": [
    {
     "data": {
      "text/html": [
       "<div>\n",
       "<style scoped>\n",
       "    .dataframe tbody tr th:only-of-type {\n",
       "        vertical-align: middle;\n",
       "    }\n",
       "\n",
       "    .dataframe tbody tr th {\n",
       "        vertical-align: top;\n",
       "    }\n",
       "\n",
       "    .dataframe thead th {\n",
       "        text-align: right;\n",
       "    }\n",
       "</style>\n",
       "<table border=\"1\" class=\"dataframe\">\n",
       "  <thead>\n",
       "    <tr style=\"text-align: right;\">\n",
       "      <th></th>\n",
       "      <th>% identity</th>\n",
       "      <th>mismatches</th>\n",
       "    </tr>\n",
       "  </thead>\n",
       "  <tbody>\n",
       "    <tr>\n",
       "      <th>count</th>\n",
       "      <td>9999.000000</td>\n",
       "      <td>9999.000000</td>\n",
       "    </tr>\n",
       "    <tr>\n",
       "      <th>mean</th>\n",
       "      <td>99.789387</td>\n",
       "      <td>2.632663</td>\n",
       "    </tr>\n",
       "    <tr>\n",
       "      <th>std</th>\n",
       "      <td>0.038618</td>\n",
       "      <td>0.482725</td>\n",
       "    </tr>\n",
       "    <tr>\n",
       "      <th>min</th>\n",
       "      <td>99.680000</td>\n",
       "      <td>2.000000</td>\n",
       "    </tr>\n",
       "    <tr>\n",
       "      <th>25%</th>\n",
       "      <td>99.760000</td>\n",
       "      <td>2.000000</td>\n",
       "    </tr>\n",
       "    <tr>\n",
       "      <th>50%</th>\n",
       "      <td>99.760000</td>\n",
       "      <td>3.000000</td>\n",
       "    </tr>\n",
       "    <tr>\n",
       "      <th>75%</th>\n",
       "      <td>99.840000</td>\n",
       "      <td>3.000000</td>\n",
       "    </tr>\n",
       "    <tr>\n",
       "      <th>max</th>\n",
       "      <td>99.840000</td>\n",
       "      <td>4.000000</td>\n",
       "    </tr>\n",
       "  </tbody>\n",
       "</table>\n",
       "</div>"
      ],
      "text/plain": [
       "        % identity   mismatches\n",
       "count  9999.000000  9999.000000\n",
       "mean     99.789387     2.632663\n",
       "std       0.038618     0.482725\n",
       "min      99.680000     2.000000\n",
       "25%      99.760000     2.000000\n",
       "50%      99.760000     3.000000\n",
       "75%      99.840000     3.000000\n",
       "max      99.840000     4.000000"
      ]
     },
     "metadata": {},
     "output_type": "display_data"
    },
    {
     "data": {
      "image/png": "[encoded data removed]",
      "text/plain": [
       "<Figure size 432x288 with 1 Axes>"
      ]
     },
     "metadata": {
      "needs_background": "light"
     },
     "output_type": "display_data"
    }
   ],
   "source": [
    "def read_results(fname):\n",
    "    fields = ['query id', 'subject id', '% identity', 'alignment length', \n",
    "              'mismatches', 'gap opens', 'q. start', 'q. end', 's. start', \n",
    "              's. end', 'evalue', 'bit score']\n",
    "    df = pd.read_csv(fname, comment='#', sep='\\t')\n",
    "    df.columns = fields\n",
    "    df = df.sort_values('% identity')\n",
    "    out_df = df.describe()[['% identity', 'mismatches']]\n",
    "    display(out_df)\n",
    "    out_df.to_csv('results' + os.path.sep + fname.split(os.path.sep)[-1].rstrip('.csv') + '_distribution.csv')\n",
    "    sns.boxplot(x=df['% identity'], flierprops = dict(markerfacecolor = '0.50', markersize = 2))\n",
    "    plt.savefig('results' + os.path.sep + fname.split(os.path.sep)[-1] + '.png', dpi=200)\n",
    "    \n",
    "    return df\n",
    "\n",
    "res_early = read_results('data/results_10000.csv')"
   ]
  },
  {
   "cell_type": "code",
   "execution_count": 83,
   "id": "powered-masters",
   "metadata": {},
   "outputs": [
    {
     "data": {
      "text/html": [
       "<div>\n",
       "<style scoped>\n",
       "    .dataframe tbody tr th:only-of-type {\n",
       "        vertical-align: middle;\n",
       "    }\n",
       "\n",
       "    .dataframe tbody tr th {\n",
       "        vertical-align: top;\n",
       "    }\n",
       "\n",
       "    .dataframe thead th {\n",
       "        text-align: right;\n",
       "    }\n",
       "</style>\n",
       "<table border=\"1\" class=\"dataframe\">\n",
       "  <thead>\n",
       "    <tr style=\"text-align: right;\">\n",
       "      <th></th>\n",
       "      <th>% identity</th>\n",
       "      <th>mismatches</th>\n",
       "    </tr>\n",
       "  </thead>\n",
       "  <tbody>\n",
       "    <tr>\n",
       "      <th>count</th>\n",
       "      <td>53165.000000</td>\n",
       "      <td>53165.000000</td>\n",
       "    </tr>\n",
       "    <tr>\n",
       "      <th>mean</th>\n",
       "      <td>97.593773</td>\n",
       "      <td>25.033876</td>\n",
       "    </tr>\n",
       "    <tr>\n",
       "      <th>std</th>\n",
       "      <td>1.552217</td>\n",
       "      <td>16.804976</td>\n",
       "    </tr>\n",
       "    <tr>\n",
       "      <th>min</th>\n",
       "      <td>82.980000</td>\n",
       "      <td>2.000000</td>\n",
       "    </tr>\n",
       "    <tr>\n",
       "      <th>25%</th>\n",
       "      <td>96.670000</td>\n",
       "      <td>11.000000</td>\n",
       "    </tr>\n",
       "    <tr>\n",
       "      <th>50%</th>\n",
       "      <td>97.140000</td>\n",
       "      <td>29.000000</td>\n",
       "    </tr>\n",
       "    <tr>\n",
       "      <th>75%</th>\n",
       "      <td>98.970000</td>\n",
       "      <td>33.000000</td>\n",
       "    </tr>\n",
       "    <tr>\n",
       "      <th>max</th>\n",
       "      <td>99.840000</td>\n",
       "      <td>212.000000</td>\n",
       "    </tr>\n",
       "  </tbody>\n",
       "</table>\n",
       "</div>"
      ],
      "text/plain": [
       "         % identity    mismatches\n",
       "count  53165.000000  53165.000000\n",
       "mean      97.593773     25.033876\n",
       "std        1.552217     16.804976\n",
       "min       82.980000      2.000000\n",
       "25%       96.670000     11.000000\n",
       "50%       97.140000     29.000000\n",
       "75%       98.970000     33.000000\n",
       "max       99.840000    212.000000"
      ]
     },
     "metadata": {},
     "output_type": "display_data"
    },
    {
     "data": {
      "image/png": "[encoded data removed]",
      "text/plain": [
       "<Figure size 432x288 with 1 Axes>"
      ]
     },
     "metadata": {
      "needs_background": "light"
     },
     "output_type": "display_data"
    }
   ],
   "source": [
    "# blastp -db S_2022/protein.faa -query vaccines/pfizer_s_protein.faa  -outfmt 7 -max_target_seqs 99999 -out results_latest_53165.csv\n",
    "res_late = read_results('data/results_latest_53165.csv')"
   ]
  },
  {
   "cell_type": "code",
   "execution_count": 22,
   "id": "japanese-course",
   "metadata": {},
   "outputs": [],
   "source": [
    "# with open('data/ALL_S/data_report.jsonl') as json_file:\n",
    "#     json_list = list(json_file)"
   ]
  },
  {
   "cell_type": "code",
   "execution_count": null,
   "id": "valued-investigator",
   "metadata": {
    "scrolled": false
   },
   "outputs": [],
   "source": [
    "# for ind,json_str in enumerate(json_list):\n",
    "#     entry = json.loads(json_str)\n",
    "#     print(entry)\n",
    "#     print('-------------------------')\n",
    "#     if 'annotation' in entry:\n",
    "#         if 'UHW52637' in (entry['annotation']['genes'][0]['cds'][0]['nucleotide']['accessionVersion']):\n",
    "#             print(entry['accession'])"
   ]
  },
  {
   "cell_type": "code",
   "execution_count": 76,
   "id": "according-dealing",
   "metadata": {},
   "outputs": [],
   "source": [
    "# data_catalog['annotation']['genes'][0]['cds'][0]['nucleotide']['accessionVersion']"
   ]
  },
  {
   "cell_type": "code",
   "execution_count": null,
   "id": "marked-sodium",
   "metadata": {},
   "outputs": [],
   "source": []
  }
 ],
 "metadata": {
  "kernelspec": {
   "display_name": "Python 3",
   "language": "python",
   "name": "python3"
  },
  "language_info": {
   "codemirror_mode": {
    "name": "ipython",
    "version": 3
   },
   "file_extension": ".py",
   "mimetype": "text/x-python",
   "name": "python",
   "nbconvert_exporter": "python",
   "pygments_lexer": "ipython3",
   "version": "3.8.5"
  }
 },
 "nbformat": 4,
 "nbformat_minor": 5
}
